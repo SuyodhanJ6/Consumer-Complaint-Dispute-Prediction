{
 "cells": [
  {
   "cell_type": "code",
   "execution_count": 1,
   "metadata": {},
   "outputs": [],
   "source": [
    "# import joblib\n",
    "\n",
    "# # Sample data to serialize\n",
    "# data_to_serialize = {'name': 'John', 'age': 30, 'city': 'New York'}\n",
    "\n",
    "# # Serialize the data to a file\n",
    "# joblib.dump(data_to_serialize, 'data.pkl')\n",
    "\n",
    "# # Deserialize the data from the file\n",
    "# loaded_data = joblib.load('data.pkl')\n",
    "\n",
    "# # Print the loaded data\n",
    "# print(loaded_data)\n"
   ]
  },
  {
   "cell_type": "code",
   "execution_count": 4,
   "metadata": {},
   "outputs": [
    {
     "name": "stdout",
     "output_type": "stream",
     "text": [
      "Error : \n"
     ]
    }
   ],
   "source": [
    "from pyspark.ml.pipeline import Pipeline, PipelineModel\n",
    "import joblib\n",
    "try:\n",
    "    transformed_pipeline_file_path = \"/home/suyodhan/Documents/Data-Science-Project/Consumer-Complaint-Dispute-Prediction/consumer_artifact/data_transformation/20230927_133929/transformed_pipeline/transformed_pipeline.joblib\"\n",
    "    # transformed_pipeline_file_path = \"consumer_artifact/data_transformation/20230927_130037/transformed_pipeline/\"\n",
    "    transformed_pipeline = joblib.load(transformed_pipeline_file_path)\n",
    "\n",
    "except Exception as e:\n",
    "    print(f\"Error : {e}\")"
   ]
  },
  {
   "cell_type": "code",
   "execution_count": 13,
   "metadata": {},
   "outputs": [
    {
     "ename": "EOFError",
     "evalue": "",
     "output_type": "error",
     "traceback": [
      "\u001b[0;31m---------------------------------------------------------------------------\u001b[0m",
      "\u001b[0;31mEOFError\u001b[0m                                  Traceback (most recent call last)",
      "\u001b[1;32m/home/suyodhan/Documents/Data-Science-Project/Consumer-Complaint-Dispute-Prediction/research/sg_04.ipynb Cell 3\u001b[0m line \u001b[0;36m2\n\u001b[1;32m      <a href='vscode-notebook-cell:/home/suyodhan/Documents/Data-Science-Project/Consumer-Complaint-Dispute-Prediction/research/sg_04.ipynb#W2sZmlsZQ%3D%3D?line=0'>1</a>\u001b[0m transformed_pipeline_file_path \u001b[39m=\u001b[39m \u001b[39m\"\u001b[39m\u001b[39m/home/suyodhan/Documents/Data-Science-Project/Consumer-Complaint-Dispute-Prediction/consumer_artifact/data_transformation/20230927_133929/transformed_pipeline/transformed_pipeline.joblib\u001b[39m\u001b[39m\"\u001b[39m\n\u001b[0;32m----> <a href='vscode-notebook-cell:/home/suyodhan/Documents/Data-Science-Project/Consumer-Complaint-Dispute-Prediction/research/sg_04.ipynb#W2sZmlsZQ%3D%3D?line=1'>2</a>\u001b[0m transformed_pipeline \u001b[39m=\u001b[39m joblib\u001b[39m.\u001b[39;49mload(transformed_pipeline_file_path)\n",
      "File \u001b[0;32m~/Documents/Data-Science-Project/Consumer-Complaint-Dispute-Prediction/venv/lib/python3.8/site-packages/joblib/numpy_pickle.py:658\u001b[0m, in \u001b[0;36mload\u001b[0;34m(filename, mmap_mode)\u001b[0m\n\u001b[1;32m    652\u001b[0m             \u001b[39mif\u001b[39;00m \u001b[39misinstance\u001b[39m(fobj, \u001b[39mstr\u001b[39m):\n\u001b[1;32m    653\u001b[0m                 \u001b[39m# if the returned file object is a string, this means we\u001b[39;00m\n\u001b[1;32m    654\u001b[0m                 \u001b[39m# try to load a pickle file generated with an version of\u001b[39;00m\n\u001b[1;32m    655\u001b[0m                 \u001b[39m# Joblib so we load it with joblib compatibility function.\u001b[39;00m\n\u001b[1;32m    656\u001b[0m                 \u001b[39mreturn\u001b[39;00m load_compatibility(fobj)\n\u001b[0;32m--> 658\u001b[0m             obj \u001b[39m=\u001b[39m _unpickle(fobj, filename, mmap_mode)\n\u001b[1;32m    659\u001b[0m \u001b[39mreturn\u001b[39;00m obj\n",
      "File \u001b[0;32m~/Documents/Data-Science-Project/Consumer-Complaint-Dispute-Prediction/venv/lib/python3.8/site-packages/joblib/numpy_pickle.py:577\u001b[0m, in \u001b[0;36m_unpickle\u001b[0;34m(fobj, filename, mmap_mode)\u001b[0m\n\u001b[1;32m    575\u001b[0m obj \u001b[39m=\u001b[39m \u001b[39mNone\u001b[39;00m\n\u001b[1;32m    576\u001b[0m \u001b[39mtry\u001b[39;00m:\n\u001b[0;32m--> 577\u001b[0m     obj \u001b[39m=\u001b[39m unpickler\u001b[39m.\u001b[39;49mload()\n\u001b[1;32m    578\u001b[0m     \u001b[39mif\u001b[39;00m unpickler\u001b[39m.\u001b[39mcompat_mode:\n\u001b[1;32m    579\u001b[0m         warnings\u001b[39m.\u001b[39mwarn(\u001b[39m\"\u001b[39m\u001b[39mThe file \u001b[39m\u001b[39m'\u001b[39m\u001b[39m%s\u001b[39;00m\u001b[39m'\u001b[39m\u001b[39m has been generated with a \u001b[39m\u001b[39m\"\u001b[39m\n\u001b[1;32m    580\u001b[0m                       \u001b[39m\"\u001b[39m\u001b[39mjoblib version less than 0.10. \u001b[39m\u001b[39m\"\u001b[39m\n\u001b[1;32m    581\u001b[0m                       \u001b[39m\"\u001b[39m\u001b[39mPlease regenerate this pickle file.\u001b[39m\u001b[39m\"\u001b[39m\n\u001b[1;32m    582\u001b[0m                       \u001b[39m%\u001b[39m filename,\n\u001b[1;32m    583\u001b[0m                       \u001b[39mDeprecationWarning\u001b[39;00m, stacklevel\u001b[39m=\u001b[39m\u001b[39m3\u001b[39m)\n",
      "File \u001b[0;32m~/Documents/Data-Science-Project/Consumer-Complaint-Dispute-Prediction/venv/lib/python3.8/pickle.py:1210\u001b[0m, in \u001b[0;36m_Unpickler.load\u001b[0;34m(self)\u001b[0m\n\u001b[1;32m   1208\u001b[0m key \u001b[39m=\u001b[39m read(\u001b[39m1\u001b[39m)\n\u001b[1;32m   1209\u001b[0m \u001b[39mif\u001b[39;00m \u001b[39mnot\u001b[39;00m key:\n\u001b[0;32m-> 1210\u001b[0m     \u001b[39mraise\u001b[39;00m \u001b[39mEOFError\u001b[39;00m\n\u001b[1;32m   1211\u001b[0m \u001b[39massert\u001b[39;00m \u001b[39misinstance\u001b[39m(key, bytes_types)\n\u001b[1;32m   1212\u001b[0m dispatch[key[\u001b[39m0\u001b[39m]](\u001b[39mself\u001b[39m)\n",
      "\u001b[0;31mEOFError\u001b[0m: "
     ]
    }
   ],
   "source": [
    "transformed_pipeline_file_path = \"/home/suyodhan/Documents/Data-Science-Project/Consumer-Complaint-Dispute-Prediction/consumer_artifact/data_transformation/20230927_133929/transformed_pipeline/transformed_pipeline.joblib\"\n",
    "transformed_pipeline = joblib.load(transformed_pipeline_file_path)"
   ]
  },
  {
   "cell_type": "code",
   "execution_count": 9,
   "metadata": {},
   "outputs": [],
   "source": [
    "transformed_pipeline_file_path = \"/home/suyodhan/Documents/Data-Science-Project/Consumer-Complaint-Dispute-Prediction/transformed_pipeline.joblib\""
   ]
  },
  {
   "cell_type": "code",
   "execution_count": 15,
   "metadata": {},
   "outputs": [
    {
     "ename": "AttributeError",
     "evalue": "module 'joblib' has no attribute 'pkl'",
     "output_type": "error",
     "traceback": [
      "\u001b[0;31m---------------------------------------------------------------------------\u001b[0m",
      "\u001b[0;31mEOFError\u001b[0m                                  Traceback (most recent call last)",
      "\u001b[1;32m/home/suyodhan/Documents/Data-Science-Project/Consumer-Complaint-Dispute-Prediction/research/sg_04.ipynb Cell 5\u001b[0m line \u001b[0;36m2\n\u001b[1;32m     <a href='vscode-notebook-cell:/home/suyodhan/Documents/Data-Science-Project/Consumer-Complaint-Dispute-Prediction/research/sg_04.ipynb#W4sZmlsZQ%3D%3D?line=18'>19</a>\u001b[0m \u001b[39mtry\u001b[39;00m:\n\u001b[1;32m     <a href='vscode-notebook-cell:/home/suyodhan/Documents/Data-Science-Project/Consumer-Complaint-Dispute-Prediction/research/sg_04.ipynb#W4sZmlsZQ%3D%3D?line=19'>20</a>\u001b[0m     \u001b[39m# Try to load the file\u001b[39;00m\n\u001b[0;32m---> <a href='vscode-notebook-cell:/home/suyodhan/Documents/Data-Science-Project/Consumer-Complaint-Dispute-Prediction/research/sg_04.ipynb#W4sZmlsZQ%3D%3D?line=20'>21</a>\u001b[0m     loaded_data \u001b[39m=\u001b[39m joblib\u001b[39m.\u001b[39;49mload(file_path)\n\u001b[1;32m     <a href='vscode-notebook-cell:/home/suyodhan/Documents/Data-Science-Project/Consumer-Complaint-Dispute-Prediction/research/sg_04.ipynb#W4sZmlsZQ%3D%3D?line=22'>23</a>\u001b[0m     \u001b[39m# Check if the loaded data is empty or None (which can happen if the file is improperly written)\u001b[39;00m\n",
      "File \u001b[0;32m~/Documents/Data-Science-Project/Consumer-Complaint-Dispute-Prediction/venv/lib/python3.8/site-packages/joblib/numpy_pickle.py:658\u001b[0m, in \u001b[0;36mload\u001b[0;34m(filename, mmap_mode)\u001b[0m\n\u001b[1;32m    656\u001b[0m                 \u001b[39mreturn\u001b[39;00m load_compatibility(fobj)\n\u001b[0;32m--> 658\u001b[0m             obj \u001b[39m=\u001b[39m _unpickle(fobj, filename, mmap_mode)\n\u001b[1;32m    659\u001b[0m \u001b[39mreturn\u001b[39;00m obj\n",
      "File \u001b[0;32m~/Documents/Data-Science-Project/Consumer-Complaint-Dispute-Prediction/venv/lib/python3.8/site-packages/joblib/numpy_pickle.py:577\u001b[0m, in \u001b[0;36m_unpickle\u001b[0;34m(fobj, filename, mmap_mode)\u001b[0m\n\u001b[1;32m    576\u001b[0m \u001b[39mtry\u001b[39;00m:\n\u001b[0;32m--> 577\u001b[0m     obj \u001b[39m=\u001b[39m unpickler\u001b[39m.\u001b[39;49mload()\n\u001b[1;32m    578\u001b[0m     \u001b[39mif\u001b[39;00m unpickler\u001b[39m.\u001b[39mcompat_mode:\n",
      "File \u001b[0;32m~/Documents/Data-Science-Project/Consumer-Complaint-Dispute-Prediction/venv/lib/python3.8/pickle.py:1210\u001b[0m, in \u001b[0;36m_Unpickler.load\u001b[0;34m(self)\u001b[0m\n\u001b[1;32m   1209\u001b[0m \u001b[39mif\u001b[39;00m \u001b[39mnot\u001b[39;00m key:\n\u001b[0;32m-> 1210\u001b[0m     \u001b[39mraise\u001b[39;00m \u001b[39mEOFError\u001b[39;00m\n\u001b[1;32m   1211\u001b[0m \u001b[39massert\u001b[39;00m \u001b[39misinstance\u001b[39m(key, bytes_types)\n",
      "\u001b[0;31mEOFError\u001b[0m: ",
      "\nDuring handling of the above exception, another exception occurred:\n",
      "\u001b[0;31mAttributeError\u001b[0m                            Traceback (most recent call last)",
      "\u001b[1;32m/home/suyodhan/Documents/Data-Science-Project/Consumer-Complaint-Dispute-Prediction/research/sg_04.ipynb Cell 5\u001b[0m line \u001b[0;36m3\n\u001b[1;32m     <a href='vscode-notebook-cell:/home/suyodhan/Documents/Data-Science-Project/Consumer-Complaint-Dispute-Prediction/research/sg_04.ipynb#W4sZmlsZQ%3D%3D?line=34'>35</a>\u001b[0m         \u001b[39mreturn\u001b[39;00m \u001b[39mf\u001b[39m\u001b[39m\"\u001b[39m\u001b[39mError while loading the file: \u001b[39m\u001b[39m{\u001b[39;00me\u001b[39m}\u001b[39;00m\u001b[39m\"\u001b[39m\n\u001b[1;32m     <a href='vscode-notebook-cell:/home/suyodhan/Documents/Data-Science-Project/Consumer-Complaint-Dispute-Prediction/research/sg_04.ipynb#W4sZmlsZQ%3D%3D?line=36'>37</a>\u001b[0m \u001b[39m# Check the file conditions\u001b[39;00m\n\u001b[0;32m---> <a href='vscode-notebook-cell:/home/suyodhan/Documents/Data-Science-Project/Consumer-Complaint-Dispute-Prediction/research/sg_04.ipynb#W4sZmlsZQ%3D%3D?line=37'>38</a>\u001b[0m result \u001b[39m=\u001b[39m check_file_conditions(file_path)\n\u001b[1;32m     <a href='vscode-notebook-cell:/home/suyodhan/Documents/Data-Science-Project/Consumer-Complaint-Dispute-Prediction/research/sg_04.ipynb#W4sZmlsZQ%3D%3D?line=38'>39</a>\u001b[0m \u001b[39mprint\u001b[39m(result)\n",
      "\u001b[1;32m/home/suyodhan/Documents/Data-Science-Project/Consumer-Complaint-Dispute-Prediction/research/sg_04.ipynb Cell 5\u001b[0m line \u001b[0;36m3\n\u001b[1;32m     <a href='vscode-notebook-cell:/home/suyodhan/Documents/Data-Science-Project/Consumer-Complaint-Dispute-Prediction/research/sg_04.ipynb#W4sZmlsZQ%3D%3D?line=26'>27</a>\u001b[0m     \u001b[39m# Check if the loaded data has the expected structure (e.g., a list, dictionary, etc.)\u001b[39;00m\n\u001b[1;32m     <a href='vscode-notebook-cell:/home/suyodhan/Documents/Data-Science-Project/Consumer-Complaint-Dispute-Prediction/research/sg_04.ipynb#W4sZmlsZQ%3D%3D?line=27'>28</a>\u001b[0m     \u001b[39m# You can add additional checks based on your specific use case\u001b[39;00m\n\u001b[1;32m     <a href='vscode-notebook-cell:/home/suyodhan/Documents/Data-Science-Project/Consumer-Complaint-Dispute-Prediction/research/sg_04.ipynb#W4sZmlsZQ%3D%3D?line=28'>29</a>\u001b[0m \n\u001b[1;32m     <a href='vscode-notebook-cell:/home/suyodhan/Documents/Data-Science-Project/Consumer-Complaint-Dispute-Prediction/research/sg_04.ipynb#W4sZmlsZQ%3D%3D?line=29'>30</a>\u001b[0m     \u001b[39m# If none of the above conditions are met, assume the file is valid\u001b[39;00m\n\u001b[1;32m     <a href='vscode-notebook-cell:/home/suyodhan/Documents/Data-Science-Project/Consumer-Complaint-Dispute-Prediction/research/sg_04.ipynb#W4sZmlsZQ%3D%3D?line=30'>31</a>\u001b[0m     \u001b[39mreturn\u001b[39;00m \u001b[39m\"\u001b[39m\u001b[39mFile is valid\u001b[39m\u001b[39m\"\u001b[39m\n\u001b[0;32m---> <a href='vscode-notebook-cell:/home/suyodhan/Documents/Data-Science-Project/Consumer-Complaint-Dispute-Prediction/research/sg_04.ipynb#W4sZmlsZQ%3D%3D?line=32'>33</a>\u001b[0m \u001b[39mexcept\u001b[39;00m (\u001b[39mEOFError\u001b[39;00m, joblib\u001b[39m.\u001b[39;49mpkl\u001b[39m.\u001b[39mJarabeapError) \u001b[39mas\u001b[39;00m e:\n\u001b[1;32m     <a href='vscode-notebook-cell:/home/suyodhan/Documents/Data-Science-Project/Consumer-Complaint-Dispute-Prediction/research/sg_04.ipynb#W4sZmlsZQ%3D%3D?line=33'>34</a>\u001b[0m     \u001b[39m# Handle EOFError (corrupted or incomplete file) and joblib errors\u001b[39;00m\n\u001b[1;32m     <a href='vscode-notebook-cell:/home/suyodhan/Documents/Data-Science-Project/Consumer-Complaint-Dispute-Prediction/research/sg_04.ipynb#W4sZmlsZQ%3D%3D?line=34'>35</a>\u001b[0m     \u001b[39mreturn\u001b[39;00m \u001b[39mf\u001b[39m\u001b[39m\"\u001b[39m\u001b[39mError while loading the file: \u001b[39m\u001b[39m{\u001b[39;00me\u001b[39m}\u001b[39;00m\u001b[39m\"\u001b[39m\n",
      "\u001b[0;31mAttributeError\u001b[0m: module 'joblib' has no attribute 'pkl'"
     ]
    }
   ],
   "source": [
    "import os\n",
    "import joblib\n",
    "from pathlib import Path\n",
    "\n",
    "# Define the file path\n",
    "# file_path = \"/path/to/your/file/transformed_pipeline.joblib\"\n",
    "file_path = \"/home/suyodhan/Documents/Data-Science-Project/Consumer-Complaint-Dispute-Prediction/consumer_artifact/data_transformation/20230927_133929/transformed_pipeline/transformed_pipeline.joblib\"\n",
    "\n",
    "\n",
    "def check_file_conditions(file_path):\n",
    "    # Check if the file exists\n",
    "    if not os.path.exists(file_path):\n",
    "        return \"File does not exist\"\n",
    "\n",
    "    # Check if the file is empty\n",
    "    if os.path.getsize(file_path) == 0:\n",
    "        return \"File is empty\"\n",
    "\n",
    "    try:\n",
    "        # Try to load the file\n",
    "        loaded_data = joblib.load(file_path)\n",
    "\n",
    "        # Check if the loaded data is empty or None (which can happen if the file is improperly written)\n",
    "        if loaded_data is None or len(loaded_data) == 0:\n",
    "            return \"File data is empty or improperly written\"\n",
    "\n",
    "        # Check if the loaded data has the expected structure (e.g., a list, dictionary, etc.)\n",
    "        # You can add additional checks based on your specific use case\n",
    "\n",
    "        # If none of the above conditions are met, assume the file is valid\n",
    "        return \"File is valid\"\n",
    "\n",
    "    except (EOFError, joblib.pkl.JarabeapError) as e:\n",
    "        # Handle EOFError (corrupted or incomplete file) and joblib errors\n",
    "        return f\"Error while loading the file: {e}\"\n",
    "\n",
    "# Check the file conditions\n",
    "result = check_file_conditions(file_path)\n",
    "print(result)\n"
   ]
  },
  {
   "cell_type": "code",
   "execution_count": null,
   "metadata": {},
   "outputs": [],
   "source": [
    "export_pipeline_dir = \n",
    "file_name = \"transformed_pipeline.joblib\"  # Change this to your desired file name\n",
    "\n",
    "# Create the full file path for saving the pipeline\n",
    "pipeline_file_path = export_pipeline_dir / file_name\n",
    "\n",
    "# Serialize and save the PySpark pipeline using dill\n",
    "with open(pipeline_file_path, \"wb\") as file_obj:\n",
    "    dill.dump(transformed_pipeline, file_obj)"
   ]
  },
  {
   "cell_type": "code",
   "execution_count": 1,
   "metadata": {},
   "outputs": [],
   "source": [
    "import dill"
   ]
  },
  {
   "cell_type": "code",
   "execution_count": 2,
   "metadata": {},
   "outputs": [
    {
     "ename": "EOFError",
     "evalue": "Ran out of input",
     "output_type": "error",
     "traceback": [
      "\u001b[0;31m---------------------------------------------------------------------------\u001b[0m",
      "\u001b[0;31mEOFError\u001b[0m                                  Traceback (most recent call last)",
      "\u001b[1;32m/home/suyodhan/Documents/Data-Science-Project/Consumer-Complaint-Dispute-Prediction/research/sg_04.ipynb Cell 8\u001b[0m line \u001b[0;36m3\n\u001b[1;32m      <a href='vscode-notebook-cell:/home/suyodhan/Documents/Data-Science-Project/Consumer-Complaint-Dispute-Prediction/research/sg_04.ipynb#W6sZmlsZQ%3D%3D?line=0'>1</a>\u001b[0m pipeline_file_path \u001b[39m=\u001b[39m \u001b[39m\"\u001b[39m\u001b[39m/home/suyodhan/Documents/Data-Science-Project/Consumer-Complaint-Dispute-Prediction/consumer_artifact/data_transformation/20230927_152929/transformed_pipeline/transformed_pipeline.dill\u001b[39m\u001b[39m\"\u001b[39m\n\u001b[1;32m      <a href='vscode-notebook-cell:/home/suyodhan/Documents/Data-Science-Project/Consumer-Complaint-Dispute-Prediction/research/sg_04.ipynb#W6sZmlsZQ%3D%3D?line=1'>2</a>\u001b[0m \u001b[39mwith\u001b[39;00m \u001b[39mopen\u001b[39m(pipeline_file_path, \u001b[39m\"\u001b[39m\u001b[39mrb\u001b[39m\u001b[39m\"\u001b[39m) \u001b[39mas\u001b[39;00m file_obj:\n\u001b[0;32m----> <a href='vscode-notebook-cell:/home/suyodhan/Documents/Data-Science-Project/Consumer-Complaint-Dispute-Prediction/research/sg_04.ipynb#W6sZmlsZQ%3D%3D?line=2'>3</a>\u001b[0m     loaded_transformed_pipeline \u001b[39m=\u001b[39m dill\u001b[39m.\u001b[39;49mload(file_obj)\n",
      "File \u001b[0;32m~/Documents/Data-Science-Project/Consumer-Complaint-Dispute-Prediction/venv/lib/python3.8/site-packages/dill/_dill.py:287\u001b[0m, in \u001b[0;36mload\u001b[0;34m(file, ignore, **kwds)\u001b[0m\n\u001b[1;32m    281\u001b[0m \u001b[39mdef\u001b[39;00m \u001b[39mload\u001b[39m(file, ignore\u001b[39m=\u001b[39m\u001b[39mNone\u001b[39;00m, \u001b[39m*\u001b[39m\u001b[39m*\u001b[39mkwds):\n\u001b[1;32m    282\u001b[0m \u001b[39m    \u001b[39m\u001b[39m\"\"\"\u001b[39;00m\n\u001b[1;32m    283\u001b[0m \u001b[39m    Unpickle an object from a file.\u001b[39;00m\n\u001b[1;32m    284\u001b[0m \n\u001b[1;32m    285\u001b[0m \u001b[39m    See :func:`loads` for keyword arguments.\u001b[39;00m\n\u001b[1;32m    286\u001b[0m \u001b[39m    \"\"\"\u001b[39;00m\n\u001b[0;32m--> 287\u001b[0m     \u001b[39mreturn\u001b[39;00m Unpickler(file, ignore\u001b[39m=\u001b[39;49mignore, \u001b[39m*\u001b[39;49m\u001b[39m*\u001b[39;49mkwds)\u001b[39m.\u001b[39;49mload()\n",
      "File \u001b[0;32m~/Documents/Data-Science-Project/Consumer-Complaint-Dispute-Prediction/venv/lib/python3.8/site-packages/dill/_dill.py:442\u001b[0m, in \u001b[0;36mUnpickler.load\u001b[0;34m(self)\u001b[0m\n\u001b[1;32m    441\u001b[0m \u001b[39mdef\u001b[39;00m \u001b[39mload\u001b[39m(\u001b[39mself\u001b[39m): \u001b[39m#NOTE: if settings change, need to update attributes\u001b[39;00m\n\u001b[0;32m--> 442\u001b[0m     obj \u001b[39m=\u001b[39m StockUnpickler\u001b[39m.\u001b[39;49mload(\u001b[39mself\u001b[39;49m)\n\u001b[1;32m    443\u001b[0m     \u001b[39mif\u001b[39;00m \u001b[39mtype\u001b[39m(obj)\u001b[39m.\u001b[39m\u001b[39m__module__\u001b[39m \u001b[39m==\u001b[39m \u001b[39mgetattr\u001b[39m(_main_module, \u001b[39m'\u001b[39m\u001b[39m__name__\u001b[39m\u001b[39m'\u001b[39m, \u001b[39m'\u001b[39m\u001b[39m__main__\u001b[39m\u001b[39m'\u001b[39m):\n\u001b[1;32m    444\u001b[0m         \u001b[39mif\u001b[39;00m \u001b[39mnot\u001b[39;00m \u001b[39mself\u001b[39m\u001b[39m.\u001b[39m_ignore:\n\u001b[1;32m    445\u001b[0m             \u001b[39m# point obj class to main\u001b[39;00m\n",
      "\u001b[0;31mEOFError\u001b[0m: Ran out of input"
     ]
    }
   ],
   "source": [
    "pipeline_file_path = \"/home/suyodhan/Documents/Data-Science-Project/Consumer-Complaint-Dispute-Prediction/consumer_artifact/data_transformation/20230927_152929/transformed_pipeline/transformed_pipeline.dill\"\n",
    "with open(pipeline_file_path, \"rb\") as file_obj:\n",
    "    loaded_transformed_pipeline = dill.load(file_obj)"
   ]
  },
  {
   "cell_type": "code",
   "execution_count": 5,
   "metadata": {},
   "outputs": [
    {
     "name": "stdout",
     "output_type": "stream",
     "text": [
      "True\n"
     ]
    }
   ],
   "source": [
    "import os\n",
    "\n",
    "if os.path.exists(pipeline_file_path):\n",
    "    print(\"True\")\n",
    "    # The file exists, proceed with loading\n",
    "\n",
    "else:\n",
    "    # The file does not exist, handle the error accordingly\n",
    "    print(\"False\")"
   ]
  },
  {
   "cell_type": "code",
   "execution_count": 3,
   "metadata": {},
   "outputs": [
    {
     "name": "stdout",
     "output_type": "stream",
     "text": [
      "EOFError: Ran out of input\n"
     ]
    }
   ],
   "source": [
    "import dill\n",
    "\n",
    "try:\n",
    "    with open(pipeline_file_path, \"rb\") as file_obj:\n",
    "        loaded_transformed_pipeline = dill.load(file_obj)\n",
    "except EOFError as e:\n",
    "    # Handle the EOFError, e.g., print an error message or log it\n",
    "    print(f\"EOFError: {e}\")\n",
    "except Exception as e:\n",
    "    # Handle other exceptions if necessary\n",
    "    print(f\"Error: {e}\")\n"
   ]
  },
  {
   "cell_type": "code",
   "execution_count": 1,
   "metadata": {},
   "outputs": [
    {
     "name": "stdout",
     "output_type": "stream",
     "text": [
      "JAVA_HOME is set to: /usr/bin/java\n"
     ]
    }
   ],
   "source": [
    "import os\n",
    "\n",
    "java_home = os.environ.get('JAVA_HOME')\n",
    "\n",
    "if java_home:\n",
    "    print(f\"JAVA_HOME is set to: {java_home}\")\n",
    "else:\n",
    "    print(\"JAVA_HOME is not set.\")\n"
   ]
  },
  {
   "cell_type": "code",
   "execution_count": null,
   "metadata": {},
   "outputs": [],
   "source": []
  }
 ],
 "metadata": {
  "kernelspec": {
   "display_name": "Python 3",
   "language": "python",
   "name": "python3"
  },
  "language_info": {
   "codemirror_mode": {
    "name": "ipython",
    "version": 3
   },
   "file_extension": ".py",
   "mimetype": "text/x-python",
   "name": "python",
   "nbconvert_exporter": "python",
   "pygments_lexer": "ipython3",
   "version": "3.8.18"
  },
  "orig_nbformat": 4
 },
 "nbformat": 4,
 "nbformat_minor": 2
}
